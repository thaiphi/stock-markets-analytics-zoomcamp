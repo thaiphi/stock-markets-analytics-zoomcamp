{
  "nbformat": 4,
  "nbformat_minor": 0,
  "metadata": {
    "colab": {
      "provenance": [],
      "mount_file_id": "1_JRdFmHCPh0hqU2PNkw7qPNRbJxO-Cq2",
      "authorship_tag": "ABX9TyNEJZAy29lEspx76Bu5PrwH",
      "include_colab_link": true
    },
    "kernelspec": {
      "name": "python3",
      "display_name": "Python 3"
    },
    "language_info": {
      "name": "python"
    }
  },
  "cells": [
    {
      "cell_type": "markdown",
      "metadata": {
        "id": "view-in-github",
        "colab_type": "text"
      },
      "source": [
        "<a href=\"https://colab.research.google.com/github/thaiphi/stock-markets-analytics-zoomcamp/blob/main/Homework_1_Intro_and_Data_Souces_for_Stock_Markets_Analytics_Zoomcamp_2024.ipynb\" target=\"_parent\"><img src=\"https://colab.research.google.com/assets/colab-badge.svg\" alt=\"Open In Colab\"/></a>"
      ]
    },
    {
      "cell_type": "code",
      "execution_count": null,
      "metadata": {
        "colab": {
          "base_uri": "https://localhost:8080/"
        },
        "id": "BJuJvvt1wWVu",
        "outputId": "6f49cd07-8503-4a89-c63a-c23a53439c74"
      },
      "outputs": [
        {
          "output_type": "stream",
          "name": "stdout",
          "text": [
            "Drive already mounted at /content/drive/; to attempt to forcibly remount, call drive.mount(\"/content/drive/\", force_remount=True).\n"
          ]
        }
      ],
      "source": [
        "# Mount google drive\n",
        "from google.colab import drive\n",
        "drive.mount('/content/drive/')"
      ]
    },
    {
      "cell_type": "code",
      "source": [
        "## Change path to directory of where notebook is located\n",
        "%cd '/content/drive/MyDrive/Stock Markets Analytics Zoomcamp 2024'"
      ],
      "metadata": {
        "id": "KQfQOZ8vx6Ql",
        "colab": {
          "base_uri": "https://localhost:8080/"
        },
        "outputId": "ce38a966-75f4-4791-a8a6-b80b0a564c85"
      },
      "execution_count": null,
      "outputs": [
        {
          "output_type": "stream",
          "name": "stdout",
          "text": [
            "/content/drive/MyDrive/Stock Markets Analytics Zoomcamp 2024\n"
          ]
        }
      ]
    },
    {
      "cell_type": "code",
      "source": [
        "import duckdb\n",
        "import pandas as pd\n",
        "\n",
        "# Connect to DuckDB\n",
        "con = duckdb.connect(database=':memory:', read_only=False)\n",
        "\n",
        "# Read the CSV file into a Pandas DataFrame\n",
        "df = pd.read_csv('/content/drive/MyDrive/Stock Markets Analytics Zoomcamp 2024/Homework 1: Intro and Data Souces for Stock Markets Analytics Zoomcamp 2024/GDPC1.csv')\n",
        "\n",
        "# Write the Pandas DataFrame to DuckDB\n",
        "con.register('gdpc1', df)\n",
        "\n",
        "# Query the DuckDB table\n",
        "result = con.execute('SELECT * FROM gdpc1 LIMIT 30')\n",
        "print(result.fetchdf())"
      ],
      "metadata": {
        "colab": {
          "base_uri": "https://localhost:8080/"
        },
        "id": "i8ohhembz55C",
        "outputId": "41b2b012-27b3-40bd-9d7b-a3e39ac84d5e"
      },
      "execution_count": null,
      "outputs": [
        {
          "output_type": "stream",
          "name": "stdout",
          "text": [
            "          DATE     GDPC1\n",
            "0   1947-01-01  2182.681\n",
            "1   1947-04-01  2176.892\n",
            "2   1947-07-01  2172.432\n",
            "3   1947-10-01  2206.452\n",
            "4   1948-01-01  2239.682\n",
            "5   1948-04-01  2276.690\n",
            "6   1948-07-01  2289.770\n",
            "7   1948-10-01  2292.364\n",
            "8   1949-01-01  2260.807\n",
            "9   1949-04-01  2253.128\n",
            "10  1949-07-01  2276.424\n",
            "11  1949-10-01  2257.352\n",
            "12  1950-01-01  2346.104\n",
            "13  1950-04-01  2417.682\n",
            "14  1950-07-01  2511.127\n",
            "15  1950-10-01  2559.214\n",
            "16  1951-01-01  2593.967\n",
            "17  1951-04-01  2638.898\n",
            "18  1951-07-01  2693.259\n",
            "19  1951-10-01  2699.156\n",
            "20  1952-01-01  2727.954\n",
            "21  1952-04-01  2733.800\n",
            "22  1952-07-01  2753.517\n",
            "23  1952-10-01  2843.941\n",
            "24  1953-01-01  2896.811\n",
            "25  1953-04-01  2919.206\n",
            "26  1953-07-01  2902.785\n",
            "27  1953-10-01  2858.845\n",
            "28  1954-01-01  2845.192\n",
            "29  1954-04-01  2848.305\n"
          ]
        }
      ]
    },
    {
      "cell_type": "markdown",
      "source": [
        "https://www.investopedia.com/terms/y/year-over-year.asp"
      ],
      "metadata": {
        "id": "U_ueMVCo2UDK"
      }
    },
    {
      "cell_type": "code",
      "source": [
        "# prompt: Query the DuckDB table for 2023\n",
        "\n",
        "result = con.execute('''\n",
        "SELECT * FROM gdpc1 WHERE\n",
        "    date >= '2023-01-01' AND date <= '2023-12-31'\n",
        "    ''')\n",
        "print(result.fetchdf())\n",
        "\n"
      ],
      "metadata": {
        "colab": {
          "base_uri": "https://localhost:8080/"
        },
        "id": "7Sq_tPi29GKy",
        "outputId": "686bce1e-78f7-4d73-d6d9-84a80451cc72"
      },
      "execution_count": null,
      "outputs": [
        {
          "output_type": "stream",
          "name": "stdout",
          "text": [
            "         DATE      GDPC1\n",
            "0  2023-01-01  22112.329\n",
            "1  2023-04-01  22225.350\n",
            "2  2023-07-01  22490.692\n",
            "3  2023-10-01  22679.255\n"
          ]
        }
      ]
    },
    {
      "cell_type": "code",
      "source": [
        "# Calculate the YoY growth rate\n",
        "con.execute('''\n",
        "    CREATE VIEW gdpc1_yoy AS\n",
        "    SELECT\n",
        "        DATE,\n",
        "        GDPC1,\n",
        "        LAG(GDPC1, 4) OVER (ORDER BY date) AS value_one_year_ago\n",
        "    FROM\n",
        "        gdpc1\n",
        "''')\n",
        "\n",
        "# Filter for the year 2023\n",
        "con.execute('''\n",
        "    CREATE VIEW gdpc1_yoy_2023 AS\n",
        "    SELECT\n",
        "        DATE,\n",
        "        GDPC1,\n",
        "        value_one_year_ago,\n",
        "        ROUND((GDPC1 / value_one_year_ago - 1) * 100, 1) AS yoy_growth_rate\n",
        "    FROM\n",
        "        gdpc1_yoy\n",
        "    WHERE\n",
        "        date >= '2023-01-01' AND date <= '2023-12-31'\n",
        "''')\n",
        "\n",
        "# Calculate the average YoY growth rate for 2023\n",
        "result = con.execute('SELECT AVG(yoy_growth_rate) FROM gdpc1_yoy_2023')\n",
        "average_yoy_growth_2023 = result.fetchone()[0]\n",
        "\n",
        "print(f'Average YoY growth rate in 2023: {average_yoy_growth_2023:.1f}%')"
      ],
      "metadata": {
        "colab": {
          "base_uri": "https://localhost:8080/"
        },
        "id": "HWPSdhX-2Tuk",
        "outputId": "ad5584fa-fc6b-43f0-88be-22c2671ef255"
      },
      "execution_count": null,
      "outputs": [
        {
          "output_type": "stream",
          "name": "stdout",
          "text": [
            "Average YoY growth rate in 2023: 2.5%\n"
          ]
        }
      ]
    },
    {
      "cell_type": "code",
      "source": [],
      "metadata": {
        "id": "JZchheLS5HH3"
      },
      "execution_count": null,
      "outputs": []
    }
  ]
}